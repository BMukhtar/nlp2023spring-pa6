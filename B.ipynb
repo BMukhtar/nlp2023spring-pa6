{
 "cells": [
  {
   "cell_type": "code",
   "execution_count": null,
   "metadata": {
    "collapsed": true
   },
   "outputs": [],
   "source": [
    "import pandas as pd\n",
    "import numpy as np\n",
    "import spacy\n",
    "from sklearn.model_selection import train_test_split\n",
    "from sklearn.linear_model import LogisticRegression\n",
    "from sklearn.metrics import precision_recall_fscore_support\n",
    "\n",
    "# Load the dataset\n",
    "data = pd.read_csv('IMDB Dataset.csv')\n",
    "\n",
    "# Preprocess reviews\n",
    "nlp = spacy.load('en_core_web_md')\n",
    "def preprocess(text):\n",
    "    doc = nlp(text.lower())\n",
    "    return [token for token in doc if not token.is_stop and token.is_alpha]\n",
    "\n",
    "data['processed'] = data['review'].apply(preprocess)\n",
    "\n",
    "# Compute mean word vectors\n",
    "def mean_vector(tokens):\n",
    "    return np.mean([token.vector for token in tokens], axis=0)\n",
    "\n",
    "data['mean_vector'] = data['processed'].apply(mean_vector)\n",
    "\n",
    "# Prepare data for training\n",
    "X = np.vstack(data['mean_vector'].values)\n",
    "y = (data['sentiment'] == 'positive').astype(int)\n",
    "X_train, X_test, y_train, y_test = train_test_split(X, y, test_size=0.2, random_state=42)\n",
    "\n",
    "# Train the model\n",
    "clf = LogisticRegression()\n",
    "clf.fit(X_train, y_train)\n",
    "\n",
    "# Make predictions\n",
    "y_pred = clf.predict(X_test)\n",
    "\n",
    "# Compute Precision, Recall, and F1-score\n",
    "precision, recall, f1, _ = precision_recall_fscore_support(y_test, y_pred, average='binary')\n",
    "\n",
    "print(f'Precision: {precision}')\n",
    "print(f'Recall: {recall}')\n",
    "print(f'F1-score: {f1}')\n"
   ]
  }
 ],
 "metadata": {
  "kernelspec": {
   "display_name": "Python 3",
   "language": "python",
   "name": "python3"
  },
  "language_info": {
   "codemirror_mode": {
    "name": "ipython",
    "version": 2
   },
   "file_extension": ".py",
   "mimetype": "text/x-python",
   "name": "python",
   "nbconvert_exporter": "python",
   "pygments_lexer": "ipython2",
   "version": "3.10.9"
  }
 },
 "nbformat": 4,
 "nbformat_minor": 0
}
