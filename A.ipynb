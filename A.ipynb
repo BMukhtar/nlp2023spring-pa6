{
 "cells": [
  {
   "cell_type": "code",
   "execution_count": 30,
   "outputs": [
    {
     "name": "stdout",
     "output_type": "stream",
     "text": [
      "Epoch: 0, Loss: 18934.294921875\n",
      "Testing1 Prediction: 2\n",
      "Testing2 Prediction: 2\n"
     ]
    }
   ],
   "source": [
    "import torch\n",
    "import torch.nn as nn\n",
    "import torch.optim as optim\n",
    "\n",
    "# Define the neural network model\n",
    "class NewsClassifier(nn.Module):\n",
    "    def __init__(self):\n",
    "        super(NewsClassifier, self).__init__()\n",
    "        self.layer1 = nn.Linear(7, 3)\n",
    "        self.layer2 = nn.Linear(3, 3)\n",
    "        self.layer3 = nn.Linear(3, 4)\n",
    "        self.relu = nn.ReLU()\n",
    "\n",
    "    def forward(self, x):\n",
    "        x = self.relu(self.layer1(x))\n",
    "        x = self.relu(self.layer2(x))\n",
    "        x = self.layer3(x)\n",
    "        return x\n",
    "\n",
    "# Initialize the model, loss function, and optimizer\n",
    "model = NewsClassifier()\n",
    "# Set the predefined weights and biases\n",
    "model.layer1.weight.data = torch.tensor([\n",
    "    [0.5, 0.2, 0.3, 0.6, 0.1, 0.7],\n",
    "    [2, -99, -1, 75, 4.5, -0.01],\n",
    "    [1, 1, 1, 1, 1, 1]\n",
    "], dtype=torch.float32)\n",
    "model.layer1.bias.data = torch.tensor([0.8, 1000, 1], dtype=torch.float32)\n",
    "\n",
    "model.layer2.weight.data = torch.tensor([\n",
    "    [0.15, 0.1, 0.4],\n",
    "    [6, 9, 1],\n",
    "    [2, 2.4, 3]\n",
    "], dtype=torch.float32)\n",
    "model.layer2.bias.data = torch.tensor([5, 14, 4.5], dtype=torch.float32)\n",
    "\n",
    "model.layer3.weight.data = torch.tensor([\n",
    "    [0.15, 0.1, 0.4],\n",
    "    [6, 3, 7],\n",
    "    [1.5, 2, 3.5],\n",
    "    [0.5, 1.5, 3]\n",
    "], dtype=torch.float32)\n",
    "model.layer3.bias.data = torch.tensor([5, 14, 4.5, 4.5], dtype=torch.float32)\n",
    "\n",
    "\n",
    "criterion = nn.CrossEntropyLoss()\n",
    "\n",
    "# Set up the data\n",
    "inputs = torch.tensor([\n",
    "    [5, 10, 4, 9, -100, -20],\n",
    "    [7, 3, -55, 18, -1, 0.0007],\n",
    "    [100, 5, -1000, 20, -200, -5],\n",
    "    [-1, -1, -1, -1, -1, -5],\n",
    "], dtype=torch.float32)\n",
    "\n",
    "labels = torch.tensor([0, 1, 2, 3], dtype=torch.long)\n",
    "\n",
    "# Train the model\n",
    "epochs = 1\n",
    "\n",
    "for epoch in range(epochs):\n",
    "    # Train the model for one epoch\n",
    "    outputs = model(inputs)\n",
    "    loss = criterion(outputs, labels)\n",
    "    loss.backward()\n",
    "    print(f'Epoch: {epoch}, Loss: {loss.item()}')\n",
    "\n",
    "    # Update the model parameters manually\n",
    "    with torch.no_grad():\n",
    "        for param in model.parameters():\n",
    "            param -= param.grad\n",
    "\n",
    "# Test the model\n",
    "testing_inputs = torch.tensor([\n",
    "    [5, 10, 3, 8, -95, -15],\n",
    "    [-1, 0, -1, -2, -1, -6],\n",
    "], dtype=torch.float32)\n",
    "with torch.no_grad():\n",
    "    test_outputs = model(testing_inputs)\n",
    "    predictions = torch.argmax(test_outputs, dim=1)\n",
    "    print(f'Testing1 Prediction: {predictions[0]}')\n",
    "    print(f'Testing2 Prediction: {predictions[1]}')"
   ],
   "metadata": {
    "collapsed": false
   }
  },
  {
   "cell_type": "code",
   "execution_count": 31,
   "outputs": [
    {
     "name": "stdout",
     "output_type": "stream",
     "text": [
      "layer1.weight\n",
      "tensor([[ 5.0000e-01,  2.0000e-01,  3.0000e-01,  6.0000e-01,  1.0000e-01,\n",
      "          7.0000e-01],\n",
      "        [-4.9149e+02, -2.2171e+02,  4.4249e+03, -1.0402e+02,  1.9660e+03,\n",
      "          2.6449e+02],\n",
      "        [ 1.0000e+00,  1.0000e+00,  1.0000e+00,  1.0000e+00,  1.0000e+00,\n",
      "          1.0000e+00]])\n",
      "layer1.bias\n",
      "tensor([8.0000e-01, 9.7899e+02, 1.0000e+00])\n",
      "layer2.weight\n",
      "tensor([[ 1.5000e-01, -4.3463e+03,  4.0000e-01],\n",
      "        [ 6.0000e+00, -1.1241e+03,  1.0000e+00],\n",
      "        [ 2.0000e+00, -3.4310e+03,  3.0000e+00]])\n",
      "layer2.bias\n",
      "tensor([ 1.0375, 12.6500,  0.9750])\n",
      "layer3.weight\n",
      "tensor([[ 7.4300e+00,  5.4630e+02,  1.4625e+02],\n",
      "        [-8.6870e+01, -8.0283e+03, -2.1353e+03],\n",
      "        [ 6.0376e+01,  5.1919e+03,  1.3877e+03],\n",
      "        [ 2.7214e+01,  2.2967e+03,  6.1526e+02]])\n",
      "layer3.bias\n",
      "tensor([ 5.2500, 13.2500,  4.7500,  4.7500])\n"
     ]
    }
   ],
   "source": [
    "# Get the model training parameters\n",
    "params = model.state_dict()\n",
    "\n",
    "# Print the parameter names and their shapes\n",
    "for name, param in params.items():\n",
    "    print(name)\n",
    "    print(param)"
   ],
   "metadata": {
    "collapsed": false
   }
  },
  {
   "cell_type": "code",
   "execution_count": 16,
   "outputs": [],
   "source": [],
   "metadata": {
    "collapsed": false
   }
  }
 ],
 "metadata": {
  "kernelspec": {
   "display_name": "Python 3",
   "language": "python",
   "name": "python3"
  },
  "language_info": {
   "codemirror_mode": {
    "name": "ipython",
    "version": 2
   },
   "file_extension": ".py",
   "mimetype": "text/x-python",
   "name": "python",
   "nbconvert_exporter": "python",
   "pygments_lexer": "ipython2",
   "version": "2.7.6"
  }
 },
 "nbformat": 4,
 "nbformat_minor": 0
}
